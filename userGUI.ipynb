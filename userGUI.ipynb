{
 "cells": [
  {
   "cell_type": "code",
   "execution_count": null,
   "metadata": {},
   "outputs": [],
   "source": [
    "from tkinter import *\n",
    "import tkinter as tk"
   ]
  },
  {
   "cell_type": "code",
   "execution_count": null,
   "metadata": {},
   "outputs": [],
   "source": [
    "window = tk.Tk()\n",
    "window.geometry(\"500x200\")\n",
    "\n",
    "# Top Title\n",
    "logo = tk.PhotoImage(file = \"dsci478-bteam/books/GoodReadsLabel.png\")\n",
    "image1 = tk.Label(window, image = logo).grid(row = 0, column = 2)\n",
    "\n",
    "# Labels\n",
    "#Label(window, text = \"Test test\").pack()\n",
    "Label(window, justify = tk.LEFT, text = \"New User\").grid(row = 2, column = 0)\n",
    "Label(window, text = \"Enter UserID\").grid(row = 4, column = 0)\n",
    "\n",
    "# Whitespace\n",
    "Label(window, text = \"\").grid(row = 5, column = 0)\n",
    "\n",
    "Label(window, text = \"Returning User\").grid(row = 6, column = 0)\n",
    "Label(window, text = \"Enter UserID\").grid(row = 7, column = 0)\n",
    "\n",
    "# Text Input\n",
    "Entry(window, width = 50, borderwidth= 5).grid(row = 4, column = 1)\n",
    "Entry(window, width = 50, borderwidth= 5).grid(row = 7, column = 1)\n",
    "\n",
    "# Buttons\n",
    "Button(window, text = \"Enter\").grid(row = 4, column = 3)\n",
    "\n",
    "window.mainloop()\n",
    "\n"
   ]
  }
 ],
 "metadata": {
  "interpreter": {
   "hash": "9bf2ca0f4a7adc3ce2f237ca763c1538d3ef289a4e7face3612a01cdae9f6807"
  },
  "kernelspec": {
   "display_name": "Python 3.10.4 64-bit",
   "language": "python",
   "name": "python3"
  },
  "language_info": {
   "codemirror_mode": {
    "name": "ipython",
    "version": 3
   },
   "file_extension": ".py",
   "mimetype": "text/x-python",
   "name": "python",
   "nbconvert_exporter": "python",
   "pygments_lexer": "ipython3",
   "version": "3.10.4"
  },
  "orig_nbformat": 4
 },
 "nbformat": 4,
 "nbformat_minor": 2
}
