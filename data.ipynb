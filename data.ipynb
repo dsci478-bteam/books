{
 "cells": [
  {
   "cell_type": "code",
   "execution_count": null,
   "id": "edd278a4",
   "metadata": {},
   "outputs": [],
   "source": [
    "# Package Imports\n",
    "import pandas as pd"
   ]
  },
  {
   "cell_type": "code",
   "execution_count": null,
   "id": "c4b4baf2",
   "metadata": {},
   "outputs": [],
   "source": [
    "# Read in book data\n",
    "colnames = ['book_id','title','avg_rating','description']\n",
    "users = pd.read_csv('books.csv', names=colnames)\n",
    "# Isolate book_id\n",
    "users = users[['book_id']]\n",
    "# Make empty users set\n",
    "users = users.transpose()\n",
    "users = users.rename(columns=users.iloc[0]).drop(users.index[0])\n",
    "users.insert(0,'user_id','')\n",
    "users"
   ]
  },
  {
   "cell_type": "code",
   "execution_count": null,
   "id": "9f59eb2a",
   "metadata": {},
   "outputs": [],
   "source": [
    "# Read in interactions data\n",
    "colnames = ['user_id','book_id','is_read','rating']\n",
    "interactions = pd.read_csv('interactions.csv', names=colnames)\n",
    "interactions = interactions[interactions['is_read']==True]\n",
    "interactions"
   ]
  },
  {
   "cell_type": "code",
   "execution_count": null,
   "id": "b288a648",
   "metadata": {},
   "outputs": [],
   "source": [
    "# THIS TAKES TOO LONG TO RUN\n",
    "\n",
    "# Group data by user_id\n",
    "grouped = interactions.groupby('user_id')\n",
    "\n",
    "# Add row for each user id\n",
    "for name, group in grouped:\n",
    "    users.loc[len(users)] = 0\n",
    "    users.iloc[len(users)-1,0] = name\n",
    "    for book, rate in zip(group.book_id, group.rating):\n",
    "        users.loc[len(users)-1,book] = rate\n",
    "users"
   ]
  },
  {
   "cell_type": "code",
   "execution_count": null,
   "id": "2ce75c42",
   "metadata": {},
   "outputs": [],
   "source": [
    "# Export to CSV\n",
    "users.to_csv('users.csv', index=False)"
   ]
  }
 ],
 "metadata": {
  "kernelspec": {
   "display_name": "Python 3 (ipykernel)",
   "language": "python",
   "name": "python3"
  },
  "language_info": {
   "codemirror_mode": {
    "name": "ipython",
    "version": 3
   },
   "file_extension": ".py",
   "mimetype": "text/x-python",
   "name": "python",
   "nbconvert_exporter": "python",
   "pygments_lexer": "ipython3",
   "version": "3.8.10"
  }
 },
 "nbformat": 4,
 "nbformat_minor": 5
}
