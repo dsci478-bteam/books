{
 "cells": [
  {
   "cell_type": "code",
   "execution_count": null,
   "id": "edd278a4",
   "metadata": {},
   "outputs": [],
   "source": [
    "# Package Imports\n",
    "import pandas as pd\n",
    "import numpy as np\n",
    "import scipy as sp\n",
    "from scipy.sparse import coo_matrix\n",
    "import numpy_indexed as npi"
   ]
  },
  {
   "cell_type": "code",
   "execution_count": null,
   "id": "a393d37b",
   "metadata": {},
   "outputs": [],
   "source": [
    "# Read in book data\n",
    "colnames = ['book_id','title','avg_rating','description']\n",
    "books = pd.read_csv('books.csv', names=colnames)\n",
    "books"
   ]
  },
  {
   "cell_type": "code",
   "execution_count": null,
   "id": "99281e4d",
   "metadata": {},
   "outputs": [],
   "source": [
    "# Read in review data\n",
    "colnames = ['user_id','book_id','review_text','rating']\n",
    "reviews = pd.read_csv('reviews.csv', names=colnames)\n",
    "# Isolate reviews with non-zero rating (note if a rating was given, 0 was not an option)\n",
    "reviews = reviews[reviews['rating']!=0]\n",
    "reviews"
   ]
  },
  {
   "cell_type": "code",
   "execution_count": null,
   "id": "7d77c3bb",
   "metadata": {},
   "outputs": [],
   "source": [
    "# Map between user_ids and index\n",
    "unique_users = np.array(reviews.user_id.unique())\n",
    "user_index = np.array(range(len(unique_users)))\n",
    "user_map = dict(zip(unique_users,user_index))\n",
    "\n",
    "# Map between book_ids and index\n",
    "book_ids = np.array(books.book_id)\n",
    "book_index = np.array(range(len(book_ids)))\n",
    "book_map = dict(zip(book_ids,book_index))\n",
    "\n",
    "# Apply maps to review set\n",
    "row = npi.remap(reviews.user_id, list(user_map.keys()), list(user_map.values()))\n",
    "col = npi.remap(reviews.book_id, list(book_map.keys()), list(book_map.values()))\n",
    "dat = np.array(reviews.rating)"
   ]
  },
  {
   "cell_type": "code",
   "execution_count": null,
   "id": "63178223",
   "metadata": {},
   "outputs": [],
   "source": [
    "# Create sparse matrix in coordinate format\n",
    "users_size = unique_users.size\n",
    "books_size = book_ids.size\n",
    "users = coo_matrix((dat, (row,col)), shape=(users_size,books_size))"
   ]
  },
  {
   "cell_type": "code",
   "execution_count": null,
   "id": "a8f74563",
   "metadata": {},
   "outputs": [],
   "source": [
    "# Make dataframe of col, row, dat\n",
    "users_sparse_df = pd.DataFrame(list(zip(row,col,dat)),\n",
    "                              columns=['r_index','c_index','data'])"
   ]
  },
  {
   "cell_type": "code",
   "execution_count": null,
   "id": "2ce75c42",
   "metadata": {},
   "outputs": [],
   "source": [
    "# Export to CSV\n",
    "users_sparse_df.to_csv('users_sparse.csv',index=False)"
   ]
  }
 ],
 "metadata": {
  "kernelspec": {
   "display_name": "Python 3 (ipykernel)",
   "language": "python",
   "name": "python3"
  },
  "language_info": {
   "codemirror_mode": {
    "name": "ipython",
    "version": 3
   },
   "file_extension": ".py",
   "mimetype": "text/x-python",
   "name": "python",
   "nbconvert_exporter": "python",
   "pygments_lexer": "ipython3",
   "version": "3.8.10"
  }
 },
 "nbformat": 4,
 "nbformat_minor": 5
}
