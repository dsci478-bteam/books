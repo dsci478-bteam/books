{
 "cells": [
  {
   "cell_type": "code",
   "execution_count": null,
   "id": "edd278a4",
   "metadata": {},
   "outputs": [],
   "source": [
    "# Package Imports\n",
    "import pandas as pd"
   ]
  },
  {
   "cell_type": "code",
   "execution_count": null,
   "id": "c4b4baf2",
   "metadata": {},
   "outputs": [],
   "source": [
    "# Read in book data\n",
    "colnames = ['book_id','title','avg_rating','description']\n",
    "books = pd.read_csv('books.csv', names=colnames)\n",
    "books"
   ]
  },
  {
   "cell_type": "code",
   "execution_count": null,
   "id": "99281e4d",
   "metadata": {},
   "outputs": [],
   "source": [
    "# Read in review data\n",
    "colnames = ['user_id','book_id','review_text','rating']\n",
    "reviews = pd.read_csv('reviews.csv', names=colnames)\n",
    "reviews"
   ]
  },
  {
   "cell_type": "code",
   "execution_count": null,
   "id": "e9865621",
   "metadata": {},
   "outputs": [],
   "source": [
    "# THIS 1. RUNS TOO SLOW, 2. TAKES TOO MUCH MEMORY. SORRY :(\n",
    "\n",
    "# Isolate book_id\n",
    "users = books[['book_id']]\n",
    "# Make empty users set\n",
    "users = users.transpose()\n",
    "users = users.rename(columns=users.iloc[0]).drop(users.index[0])\n",
    "# Remove users columns that are unused in review data\n",
    "unique_ids = reviews.book_id.unique()\n",
    "for book in books.book_id:\n",
    "    if not(book in unique_ids):\n",
    "        users.drop(columns=[book],inplace=True)\n",
    "# Add row for each user id\n",
    "users.insert(0,'user_id',reviews.user_id.unique())\n",
    "users"
   ]
  },
  {
   "cell_type": "code",
   "execution_count": null,
   "id": "2ce75c42",
   "metadata": {},
   "outputs": [],
   "source": [
    "# Export to CSV\n",
    "users.to_csv('users.csv',index=False)"
   ]
  }
 ],
 "metadata": {
  "kernelspec": {
   "display_name": "Python 3 (ipykernel)",
   "language": "python",
   "name": "python3"
  },
  "language_info": {
   "codemirror_mode": {
    "name": "ipython",
    "version": 3
   },
   "file_extension": ".py",
   "mimetype": "text/x-python",
   "name": "python",
   "nbconvert_exporter": "python",
   "pygments_lexer": "ipython3",
   "version": "3.8.10"
  }
 },
 "nbformat": 4,
 "nbformat_minor": 5
}
