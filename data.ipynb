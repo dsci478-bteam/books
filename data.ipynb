{
 "cells": [
  {
   "cell_type": "code",
   "execution_count": 1,
   "id": "edd278a4",
   "metadata": {},
   "outputs": [],
   "source": [
    "# Package Imports\n",
    "import pandas as pd\n",
    "import numpy as np\n",
    "import scipy as sp\n",
    "from scipy.sparse import coo_matrix\n",
    "import numpy_indexed as npi\n",
    "\n",
    "import requests\n",
    "from io import StringIO"
   ]
  },
  {
   "cell_type": "code",
   "execution_count": 29,
   "id": "a393d37b",
   "metadata": {},
   "outputs": [
    {
     "data": {
      "text/html": [
       "<div>\n",
       "<style scoped>\n",
       "    .dataframe tbody tr th:only-of-type {\n",
       "        vertical-align: middle;\n",
       "    }\n",
       "\n",
       "    .dataframe tbody tr th {\n",
       "        vertical-align: top;\n",
       "    }\n",
       "\n",
       "    .dataframe thead th {\n",
       "        text-align: right;\n",
       "    }\n",
       "</style>\n",
       "<table border=\"1\" class=\"dataframe\">\n",
       "  <thead>\n",
       "    <tr style=\"text-align: right;\">\n",
       "      <th></th>\n",
       "      <th>book_id</th>\n",
       "      <th>title</th>\n",
       "      <th>avg_rating</th>\n",
       "      <th>description</th>\n",
       "    </tr>\n",
       "  </thead>\n",
       "  <tbody>\n",
       "    <tr>\n",
       "      <th>0</th>\n",
       "      <td>12182387</td>\n",
       "      <td>The Passion (Dark Visions, #3)</td>\n",
       "      <td>4.04</td>\n",
       "      <td>This is the final tale in the bestselling auth...</td>\n",
       "    </tr>\n",
       "    <tr>\n",
       "      <th>1</th>\n",
       "      <td>20135365</td>\n",
       "      <td>Hope's Daughter</td>\n",
       "      <td>3.80</td>\n",
       "      <td>Life should be simple for Cassie.\\nFor the sma...</td>\n",
       "    </tr>\n",
       "    <tr>\n",
       "      <th>2</th>\n",
       "      <td>21401181</td>\n",
       "      <td>Half Bad (Half Life, #1)</td>\n",
       "      <td>3.80</td>\n",
       "      <td>Wanted by no one.\\nHunted by everyone.\\nSixtee...</td>\n",
       "    </tr>\n",
       "    <tr>\n",
       "      <th>3</th>\n",
       "      <td>10099492</td>\n",
       "      <td>Twelfth Grade Kills (The Chronicles of Vladimi...</td>\n",
       "      <td>4.35</td>\n",
       "      <td>It all comes down to this.\\nVlad's running out...</td>\n",
       "    </tr>\n",
       "    <tr>\n",
       "      <th>4</th>\n",
       "      <td>22642971</td>\n",
       "      <td>The Body Electric</td>\n",
       "      <td>3.71</td>\n",
       "      <td>The future world is at peace.\\nElla Shepherd h...</td>\n",
       "    </tr>\n",
       "  </tbody>\n",
       "</table>\n",
       "</div>"
      ],
      "text/plain": [
       "    book_id                                              title  avg_rating  \\\n",
       "0  12182387                     The Passion (Dark Visions, #3)        4.04   \n",
       "1  20135365                                    Hope's Daughter        3.80   \n",
       "2  21401181                           Half Bad (Half Life, #1)        3.80   \n",
       "3  10099492  Twelfth Grade Kills (The Chronicles of Vladimi...        4.35   \n",
       "4  22642971                                  The Body Electric        3.71   \n",
       "\n",
       "                                         description  \n",
       "0  This is the final tale in the bestselling auth...  \n",
       "1  Life should be simple for Cassie.\\nFor the sma...  \n",
       "2  Wanted by no one.\\nHunted by everyone.\\nSixtee...  \n",
       "3  It all comes down to this.\\nVlad's running out...  \n",
       "4  The future world is at peace.\\nElla Shepherd h...  "
      ]
     },
     "execution_count": 29,
     "metadata": {},
     "output_type": "execute_result"
    }
   ],
   "source": [
    "# Read in book data\n",
    "colnames = ['book_id','title','avg_rating','description']\n",
    "\n",
    "orig_url='https://drive.google.com/file/d/15DvRQIdkXVg3qXVkyDm2GsgXVcTmgzYj/view?usp=sharing'\n",
    "\n",
    "file_id = orig_url.split('/')[-2]\n",
    "dwn_url='https://drive.google.com/uc?export=download&id=' + file_id\n",
    "url = requests.get(dwn_url).text\n",
    "books_raw = StringIO(url)\n",
    "\n",
    "books = pd.read_csv(books_raw, names=colnames)\n",
    "books.head()"
   ]
  },
  {
   "cell_type": "code",
   "execution_count": 2,
   "id": "99281e4d",
   "metadata": {},
   "outputs": [
    {
     "data": {
      "text/html": [
       "<div>\n",
       "<style scoped>\n",
       "    .dataframe tbody tr th:only-of-type {\n",
       "        vertical-align: middle;\n",
       "    }\n",
       "\n",
       "    .dataframe tbody tr th {\n",
       "        vertical-align: top;\n",
       "    }\n",
       "\n",
       "    .dataframe thead th {\n",
       "        text-align: right;\n",
       "    }\n",
       "</style>\n",
       "<table border=\"1\" class=\"dataframe\">\n",
       "  <thead>\n",
       "    <tr style=\"text-align: right;\">\n",
       "      <th></th>\n",
       "      <th>user_id</th>\n",
       "      <th>book_id</th>\n",
       "      <th>review_text</th>\n",
       "      <th>rating</th>\n",
       "    </tr>\n",
       "  </thead>\n",
       "  <tbody>\n",
       "    <tr>\n",
       "      <th>0</th>\n",
       "      <td>&lt;!DOCTYPE html&gt;&lt;html&gt;&lt;head&gt;&lt;title&gt;Google Drive...</td>\n",
       "      <td>NaN</td>\n",
       "      <td>NaN</td>\n",
       "      <td>NaN</td>\n",
       "    </tr>\n",
       "    <tr>\n",
       "      <th>1</th>\n",
       "      <td>.goog-inline-block{position:relative;display:-...</td>\n",
       "      <td>sans-serif;margin:0}.grecaptcha-badge{visibili...</td>\n",
       "      <td>.uc-warning-caption{color:#222;font-size:16px}...</td>\n",
       "      <td>NaN</td>\n",
       "    </tr>\n",
       "  </tbody>\n",
       "</table>\n",
       "</div>"
      ],
      "text/plain": [
       "                                             user_id  \\\n",
       "0  <!DOCTYPE html><html><head><title>Google Drive...   \n",
       "1  .goog-inline-block{position:relative;display:-...   \n",
       "\n",
       "                                             book_id  \\\n",
       "0                                                NaN   \n",
       "1  sans-serif;margin:0}.grecaptcha-badge{visibili...   \n",
       "\n",
       "                                         review_text  rating  \n",
       "0                                                NaN     NaN  \n",
       "1  .uc-warning-caption{color:#222;font-size:16px}...     NaN  "
      ]
     },
     "execution_count": 2,
     "metadata": {},
     "output_type": "execute_result"
    }
   ],
   "source": [
    "# Read in review data\n",
    "rev_colnames = ['user_id','book_id','review_text','rating']\n",
    "\n",
    "rev_url='https://drive.google.com/file/d/1Ctew6lEpW1V-is9JyRLmO_z-KgVI5c95/view?usp=sharing'\n",
    "\n",
    "rev_file_id = rev_url.split('/')[-2]\n",
    "rev_dwn_url='https://drive.google.com/uc?export=download&id=' + rev_file_id\n",
    "rev_url = requests.get(rev_dwn_url).text\n",
    "reviews_raw = StringIO(rev_url)\n",
    "\n",
    "reviews = pd.read_csv(reviews_raw, names=rev_colnames)\n",
    "reviews.head()\n",
    "# Isolate reviews with non-zero rating (note if a rating was given, 0 was not an option)\n",
    "reviews = reviews[reviews['rating']!=0]\n",
    "reviews"
   ]
  },
  {
   "cell_type": "code",
   "execution_count": 7,
   "id": "7d77c3bb",
   "metadata": {},
   "outputs": [
    {
     "ename": "NameError",
     "evalue": "name 'reviews' is not defined",
     "output_type": "error",
     "traceback": [
      "\u001b[1;31m---------------------------------------------------------------------------\u001b[0m",
      "\u001b[1;31mNameError\u001b[0m                                 Traceback (most recent call last)",
      "\u001b[1;32m~\\AppData\\Local\\Temp/ipykernel_9020/20947197.py\u001b[0m in \u001b[0;36m<module>\u001b[1;34m\u001b[0m\n\u001b[0;32m      1\u001b[0m \u001b[1;31m# Map between user_ids and index\u001b[0m\u001b[1;33m\u001b[0m\u001b[1;33m\u001b[0m\u001b[0m\n\u001b[1;32m----> 2\u001b[1;33m \u001b[0munique_users\u001b[0m \u001b[1;33m=\u001b[0m \u001b[0mnp\u001b[0m\u001b[1;33m.\u001b[0m\u001b[0marray\u001b[0m\u001b[1;33m(\u001b[0m\u001b[0mreviews\u001b[0m\u001b[1;33m.\u001b[0m\u001b[0muser_id\u001b[0m\u001b[1;33m.\u001b[0m\u001b[0munique\u001b[0m\u001b[1;33m(\u001b[0m\u001b[1;33m)\u001b[0m\u001b[1;33m)\u001b[0m\u001b[1;33m\u001b[0m\u001b[1;33m\u001b[0m\u001b[0m\n\u001b[0m\u001b[0;32m      3\u001b[0m \u001b[0muser_index\u001b[0m \u001b[1;33m=\u001b[0m \u001b[0mnp\u001b[0m\u001b[1;33m.\u001b[0m\u001b[0marray\u001b[0m\u001b[1;33m(\u001b[0m\u001b[0mrange\u001b[0m\u001b[1;33m(\u001b[0m\u001b[0mlen\u001b[0m\u001b[1;33m(\u001b[0m\u001b[0munique_users\u001b[0m\u001b[1;33m)\u001b[0m\u001b[1;33m)\u001b[0m\u001b[1;33m)\u001b[0m\u001b[1;33m\u001b[0m\u001b[1;33m\u001b[0m\u001b[0m\n\u001b[0;32m      4\u001b[0m \u001b[0muser_map\u001b[0m \u001b[1;33m=\u001b[0m \u001b[0mdict\u001b[0m\u001b[1;33m(\u001b[0m\u001b[0mzip\u001b[0m\u001b[1;33m(\u001b[0m\u001b[0munique_users\u001b[0m\u001b[1;33m,\u001b[0m\u001b[0muser_index\u001b[0m\u001b[1;33m)\u001b[0m\u001b[1;33m)\u001b[0m\u001b[1;33m\u001b[0m\u001b[1;33m\u001b[0m\u001b[0m\n\u001b[0;32m      5\u001b[0m \u001b[1;33m\u001b[0m\u001b[0m\n",
      "\u001b[1;31mNameError\u001b[0m: name 'reviews' is not defined"
     ]
    }
   ],
   "source": [
    "# Map between user_ids and index\n",
    "unique_users = np.array(reviews.user_id.unique())\n",
    "user_index = np.array(range(len(unique_users)))\n",
    "user_map = dict(zip(unique_users,user_index))\n",
    "\n",
    "# Map between book_ids and index\n",
    "book_ids = np.array(books.book_id)\n",
    "book_index = np.array(range(len(book_ids)))\n",
    "book_map = dict(zip(book_ids,book_index))\n",
    "\n",
    "# Apply maps to review set\n",
    "row = npi.remap(reviews.user_id, list(user_map.keys()), list(user_map.values()))\n",
    "col = npi.remap(reviews.book_id, list(book_map.keys()), list(book_map.values()))\n",
    "dat = np.array(reviews.rating)"
   ]
  },
  {
   "cell_type": "code",
   "execution_count": null,
   "id": "63178223",
   "metadata": {},
   "outputs": [],
   "source": [
    "# Create sparse matrix in coordinate format\n",
    "users_size = unique_users.size\n",
    "books_size = book_ids.size\n",
    "users = coo_matrix((dat, (row,col)), shape=(users_size,books_size))"
   ]
  },
  {
   "cell_type": "code",
   "execution_count": null,
   "id": "a8f74563",
   "metadata": {},
   "outputs": [],
   "source": [
    "# Make dataframe of col, row, dat\n",
    "users_sparse_df = pd.DataFrame(list(zip(row,col,dat)),\n",
    "                              columns=['r_index','c_index','data'])"
   ]
  },
  {
   "cell_type": "code",
   "execution_count": null,
   "id": "2ce75c42",
   "metadata": {},
   "outputs": [],
   "source": [
    "# Export to CSV\n",
    "users_sparse_df.to_csv('users_sparse.csv',index=False)"
   ]
  }
 ],
 "metadata": {
  "kernelspec": {
   "display_name": "Python 3 (ipykernel)",
   "language": "python",
   "name": "python3"
  },
  "language_info": {
   "codemirror_mode": {
    "name": "ipython",
    "version": 3
   },
   "file_extension": ".py",
   "mimetype": "text/x-python",
   "name": "python",
   "nbconvert_exporter": "python",
   "pygments_lexer": "ipython3",
   "version": "3.9.7"
  }
 },
 "nbformat": 4,
 "nbformat_minor": 5
}
