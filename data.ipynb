{
 "cells": [
  {
   "cell_type": "code",
   "execution_count": null,
   "id": "edd278a4",
   "metadata": {},
   "outputs": [],
   "source": [
    "import pandas as pd"
   ]
  },
  {
   "cell_type": "code",
   "execution_count": null,
   "id": "c4b4baf2",
   "metadata": {},
   "outputs": [],
   "source": [
    "# Read in book data\n",
    "colnames = ['book_id','title','avg_rating','description']\n",
    "users = pd.read_csv('books.csv', names=colnames)\n",
    "# Isolate book_id\n",
    "users = users[['book_id']]\n",
    "# Make empty users set\n",
    "users = users.transpose()\n",
    "users = users.rename(columns=users.iloc[0]).drop(users.index[0])\n",
    "users.insert(0,'user_id','')\n",
    "users"
   ]
  },
  {
   "cell_type": "code",
   "execution_count": null,
   "id": "3b572493",
   "metadata": {},
   "outputs": [],
   "source": [
    "users.loc[len(users)] = 0\n",
    "users"
   ]
  }
 ],
 "metadata": {
  "kernelspec": {
   "display_name": "Python 3 (ipykernel)",
   "language": "python",
   "name": "python3"
  },
  "language_info": {
   "codemirror_mode": {
    "name": "ipython",
    "version": 3
   },
   "file_extension": ".py",
   "mimetype": "text/x-python",
   "name": "python",
   "nbconvert_exporter": "python",
   "pygments_lexer": "ipython3",
   "version": "3.8.10"
  }
 },
 "nbformat": 4,
 "nbformat_minor": 5
}
