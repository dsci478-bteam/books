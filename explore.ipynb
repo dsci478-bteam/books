{
 "cells": [
  {
   "cell_type": "code",
   "execution_count": null,
   "id": "090ab19f",
   "metadata": {},
   "outputs": [],
   "source": [
    "# Package Imports\n",
    "import math\n",
    "import matplotlib.pyplot as plt\n",
    "import numpy as np\n",
    "import pandas as pd\n",
    "import scipy as sp\n",
    "import sklearn\n",
    "from scipy.sparse import coo_matrix\n",
    "from scipy.sparse import csr_matrix\n",
    "from sklearn.neighbors import NearestNeighbors\n",
    "from sklearn.metrics.pairwise import cosine_similarity"
   ]
  },
  {
   "cell_type": "markdown",
   "id": "286585ee",
   "metadata": {},
   "source": [
    "# Load Data and Create Sparse Matrix"
   ]
  },
  {
   "cell_type": "code",
   "execution_count": null,
   "id": "547fb487",
   "metadata": {},
   "outputs": [],
   "source": [
    "# Read books data\n",
    "books = pd.read_csv('red_books.csv')\n",
    "books"
   ]
  },
  {
   "cell_type": "code",
   "execution_count": null,
   "id": "595fde7c",
   "metadata": {},
   "outputs": [],
   "source": [
    "# Read sparse matrix encoding into df\n",
    "sparse_df = pd.read_csv('users_sparse.csv')\n",
    "sparse_df"
   ]
  },
  {
   "cell_type": "code",
   "execution_count": null,
   "id": "6f81df77",
   "metadata": {},
   "outputs": [],
   "source": [
    "# Create Scipy sparse matrix and convert to compressed sparse row format for operations\n",
    "row = np.array(sparse_df.r_index)\n",
    "col = np.array(sparse_df.c_index)\n",
    "dat = np.array(sparse_df.data)\n",
    "users = coo_matrix((dat,(row,col)),shape=(np.unique(row).size,np.unique(col).size))\n",
    "users = users.tocsr()"
   ]
  },
  {
   "cell_type": "markdown",
   "id": "aaa70062",
   "metadata": {},
   "source": [
    "# Determining k"
   ]
  },
  {
   "cell_type": "code",
   "execution_count": null,
   "id": "3b303fd7",
   "metadata": {},
   "outputs": [],
   "source": [
    "n_users = np.unique(row).size\n",
    "n_users"
   ]
  },
  {
   "cell_type": "code",
   "execution_count": null,
   "id": "b0d48a77",
   "metadata": {},
   "outputs": [],
   "source": [
    "# From some source somewhere\n",
    "k = (math.sqrt(n_users))/2\n",
    "k = round(k)\n",
    "print(k)"
   ]
  },
  {
   "cell_type": "code",
   "execution_count": null,
   "id": "19416355",
   "metadata": {},
   "outputs": [],
   "source": [
    "# Systematic approach"
   ]
  },
  {
   "cell_type": "markdown",
   "id": "cd6250c3",
   "metadata": {},
   "source": [
    "# KNN for Cosine Similarities"
   ]
  },
  {
   "cell_type": "code",
   "execution_count": null,
   "id": "270885ef",
   "metadata": {},
   "outputs": [],
   "source": [
    "# Set up KNN\n",
    "knn = NearestNeighbors(metric='cosine', algorithm='brute', n_neighbors=377)\n",
    "knn.fit(users)\n",
    "\n",
    "# Pick a user id from 0 to 567805\n",
    "user_id = 223\n",
    "\n",
    "# Get k neighbors for user_id\n",
    "nbrs = knn.kneighbors(users.getrow(user_id))"
   ]
  },
  {
   "cell_type": "code",
   "execution_count": null,
   "id": "824836a6",
   "metadata": {},
   "outputs": [],
   "source": [
    "# Gives user index and distance (angle between vectors, 0 means cosine simlarity == 1)\n",
    "print(nbrs)"
   ]
  },
  {
   "cell_type": "markdown",
   "id": "8fd654d3",
   "metadata": {},
   "source": [
    "# With Cosine Similarity Function Instead"
   ]
  },
  {
   "cell_type": "code",
   "execution_count": null,
   "id": "45b5a3f1",
   "metadata": {},
   "outputs": [],
   "source": [
    "# Pick a user id from 0 to 567805\n",
    "user_id = 223\n",
    "\n",
    "# Calculate pairwise cosine similarities between user and all other users\n",
    "similarities = cosine_similarity(users.getrow(user_id),users)\n",
    "sim_index = pd.DataFrame({'ind':np.unique(row),'sim':similarities.flatten()})\n",
    "\n",
    "#ind = np.argpartition(similarities, -k)[-k:]"
   ]
  },
  {
   "cell_type": "markdown",
   "id": "c5b8391b",
   "metadata": {},
   "source": [
    "# Weighted Average"
   ]
  },
  {
   "cell_type": "code",
   "execution_count": null,
   "id": "12d00a57",
   "metadata": {},
   "outputs": [],
   "source": []
  }
 ],
 "metadata": {
  "kernelspec": {
   "display_name": "Python 3 (ipykernel)",
   "language": "python",
   "name": "python3"
  },
  "language_info": {
   "codemirror_mode": {
    "name": "ipython",
    "version": 3
   },
   "file_extension": ".py",
   "mimetype": "text/x-python",
   "name": "python",
   "nbconvert_exporter": "python",
   "pygments_lexer": "ipython3",
   "version": "3.8.10"
  }
 },
 "nbformat": 4,
 "nbformat_minor": 5
}
