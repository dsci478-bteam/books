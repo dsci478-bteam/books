{
 "cells": [
  {
   "cell_type": "code",
   "execution_count": null,
   "metadata": {},
   "outputs": [],
   "source": [
    "# Package Imports\n",
    "import math\n",
    "import matplotlib.pyplot as plt\n",
    "import numpy as np\n",
    "import pandas as pd\n",
    "import scipy as sp\n",
    "import sklearn\n",
    "from scipy.sparse import coo_matrix\n",
    "from scipy.sparse import csr_matrix\n",
    "from sklearn.neighbors import NearestNeighbors\n",
    "from sklearn.metrics.pairwise import cosine_similarity"
   ]
  },
  {
   "cell_type": "markdown",
   "metadata": {},
   "source": [
    "# Load Data and Create Sparse Matrix"
   ]
  },
  {
   "cell_type": "code",
   "execution_count": null,
   "metadata": {},
   "outputs": [],
   "source": [
    "# Read books data\n",
    "books = pd.read_csv('red_books.csv')\n",
    "books"
   ]
  },
  {
   "cell_type": "code",
   "execution_count": null,
   "metadata": {},
   "outputs": [],
   "source": [
    "# Read sparse matrix encoding into df\n",
    "sparse_df = pd.read_csv('users_sparse.csv')\n",
    "sparse_df"
   ]
  },
  {
   "cell_type": "code",
   "execution_count": null,
   "metadata": {},
   "outputs": [],
   "source": [
    "# Create Scipy sparse matrix and convert to compressed sparse row format for operations\n",
    "row = np.array(sparse_df.r_index)\n",
    "col = np.array(sparse_df.c_index)\n",
    "dat = np.array(sparse_df.data)\n",
    "users = coo_matrix((dat,(row,col)),shape=(np.unique(row).size,np.unique(col).size))\n",
    "users = users.tocsr()"
   ]
  },
  {
   "cell_type": "markdown",
   "metadata": {},
   "source": [
    "# Determining k"
   ]
  },
  {
   "cell_type": "code",
   "execution_count": null,
   "metadata": {},
   "outputs": [],
   "source": [
    "n_users = np.unique(row).size\n",
    "n_users"
   ]
  },
  {
   "cell_type": "code",
   "execution_count": null,
   "metadata": {},
   "outputs": [],
   "source": [
    "# From some source somewhere\n",
    "k = (math.sqrt(n_users))/2\n",
    "k = round(k)\n",
    "k"
   ]
  },
  {
   "cell_type": "code",
   "execution_count": null,
   "metadata": {},
   "outputs": [],
   "source": [
    "# Systematic approach"
   ]
  },
  {
   "cell_type": "markdown",
   "metadata": {},
   "source": [
    "# KNN for Cosine Similarities"
   ]
  },
  {
   "cell_type": "code",
   "execution_count": null,
   "metadata": {},
   "outputs": [],
   "source": [
    "# Set up KNN\n",
    "knn = NearestNeighbors(metric='cosine', algorithm='brute', n_neighbors=377)\n",
    "knn.fit(users)\n",
    "\n",
    "# Pick a user id from 0 to 567805\n",
    "user_id = 478\n",
    "\n",
    "# Get k neighbors for user_id\n",
    "nbrs = knn.kneighbors(users.getrow(user_id))\n",
    "\n",
    "# Gives user index and distance (angle between vectors, 0 means cosine simlarity == 1)\n",
    "nbrs"
   ]
  },
  {
   "cell_type": "markdown",
   "metadata": {},
   "source": [
    "# With Cosine Similarity Function Instead"
   ]
  },
  {
   "cell_type": "code",
   "execution_count": null,
   "metadata": {},
   "outputs": [],
   "source": [
    "# Pick a user id from 0 to 567805\n",
    "user_id = 478\n",
    "\n",
    "# Calculate pairwise cosine similarities between user and all other users\n",
    "similarities = cosine_similarity(users.getrow(user_id),users)\n",
    "\n",
    "# Get top k similar users that are not equal to 1\n",
    "sim_index = pd.DataFrame({'sim':similarities.flatten()})\n",
    "sim_index = sim_index.sort_values(['sim'])\n",
    "sim_index = sim_index[sim_index['sim'] != 1]\n",
    "nbrs = sim_index.iloc[-k:]\n",
    "nbrs = nbrs.reset_index()"
   ]
  },
  {
   "cell_type": "markdown",
   "metadata": {},
   "source": [
    "# Weighted Average"
   ]
  },
  {
   "cell_type": "code",
   "execution_count": null,
   "metadata": {},
   "outputs": [],
   "source": [
    "# Books read by the user_id\n",
    "user_books = np.array(sparse_df[sparse_df['r_index']==user_id].c_index)\n",
    "\n",
    "# Total similarity\n",
    "total_sim = sum(nbrs.sim)\n",
    "\n",
    "# Loop through each neighbor and find set difference and total the set differences\n",
    "set_diff = np.empty(0,dtype=int)\n",
    "\n",
    "for ind in nbrs['index']:\n",
    "    nbr_books = np.array(sparse_df[sparse_df['r_index']==ind].c_index)\n",
    "    set_diff = np.union1d(set_diff,np.setdiff1d(nbr_books,user_books))"
   ]
  },
  {
   "cell_type": "code",
   "execution_count": null,
   "metadata": {
    "scrolled": true
   },
   "outputs": [],
   "source": [
    "# Get rows from users cooresponding to nbrs\n",
    "nbrs_books = users[nbrs.index]\n",
    "# Get columns cooresponding to books read by neighbors but not user\n",
    "nbrs_books = nbrs_books[:,set_diff]\n",
    "\n",
    "# Convert to dataframe for ease of computation\n",
    "nbrs_books = pd.DataFrame.sparse.from_spmatrix(nbrs_books)\n",
    "nbrs_books"
   ]
  }
 ],
 "metadata": {
  "kernelspec": {
   "display_name": "Python 3",
   "language": "python",
   "name": "python3"
  },
  "language_info": {
   "codemirror_mode": {
    "name": "ipython",
    "version": 3
   },
   "file_extension": ".py",
   "mimetype": "text/x-python",
   "name": "python",
   "nbconvert_exporter": "python",
   "pygments_lexer": "ipython3",
   "version": "3.8.10"
  }
 },
 "nbformat": 4,
 "nbformat_minor": 5
}
