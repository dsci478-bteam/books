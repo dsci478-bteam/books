{
 "cells": [
  {
   "cell_type": "code",
   "execution_count": null,
   "id": "6da61a5d",
   "metadata": {},
   "outputs": [],
   "source": [
    "# Package Imports\n",
    "import math\n",
    "import matplotlib.pyplot as plt\n",
    "import numpy as np\n",
    "import pandas as pd\n",
    "import scipy as sp\n",
    "import sklearn\n",
    "from scipy.sparse import coo_matrix\n",
    "from scipy.sparse import csr_matrix\n",
    "from sklearn.neighbors import NearestNeighbors\n",
    "from sklearn.metrics.pairwise import cosine_similarity"
   ]
  },
  {
   "cell_type": "markdown",
   "id": "01475688",
   "metadata": {},
   "source": [
    "# Load Data and Create Sparse Matrix"
   ]
  },
  {
   "cell_type": "code",
   "execution_count": null,
   "id": "f96fe0f7",
   "metadata": {},
   "outputs": [],
   "source": [
    "# Read books data\n",
    "books = pd.read_csv('red_books.csv')\n",
    "books"
   ]
  },
  {
   "cell_type": "code",
   "execution_count": null,
   "id": "faaa86c5",
   "metadata": {},
   "outputs": [],
   "source": [
    "# Read sparse matrix encoding into df\n",
    "sparse_df = pd.read_csv('users_sparse.csv')\n",
    "sparse_df"
   ]
  },
  {
   "cell_type": "code",
   "execution_count": null,
   "id": "82c0ceb0",
   "metadata": {},
   "outputs": [],
   "source": [
    "# Create Scipy sparse matrix and convert to compressed sparse row format for operations\n",
    "row = np.array(sparse_df.r_index)\n",
    "col = np.array(sparse_df.c_index)\n",
    "dat = np.array(sparse_df.data)\n",
    "users = coo_matrix((dat,(row,col)),shape=(np.unique(row).size,np.unique(col).size))\n",
    "users = users.tocsr()"
   ]
  },
  {
   "cell_type": "markdown",
   "id": "fb9860da",
   "metadata": {},
   "source": [
    "# Determining k"
   ]
  },
  {
   "cell_type": "code",
   "execution_count": null,
   "id": "39aab530",
   "metadata": {},
   "outputs": [],
   "source": [
    "n_users = np.unique(row).size\n",
    "n_users"
   ]
  },
  {
   "cell_type": "code",
   "execution_count": null,
   "id": "932d0062",
   "metadata": {},
   "outputs": [],
   "source": [
    "# From some source somewhere\n",
    "k = (math.sqrt(n_users))/2\n",
    "k = round(k)\n",
    "k"
   ]
  },
  {
   "cell_type": "code",
   "execution_count": null,
   "id": "b4086d83",
   "metadata": {},
   "outputs": [],
   "source": [
    "# Systematic approach"
   ]
  },
  {
   "cell_type": "markdown",
   "id": "ddfbba82",
   "metadata": {},
   "source": [
    "# KNN for Cosine Similarities (don't use)"
   ]
  },
  {
   "cell_type": "code",
   "execution_count": null,
   "id": "c6e3e702",
   "metadata": {},
   "outputs": [],
   "source": [
    "# Set up KNN\n",
    "knn = NearestNeighbors(metric='cosine', algorithm='brute', n_neighbors=377)\n",
    "knn.fit(users)\n",
    "\n",
    "# Pick a user id from 0 to 567805\n",
    "user_id = 478\n",
    "\n",
    "# Get k neighbors for user_id\n",
    "nbrs = knn.kneighbors(users.getrow(user_id))\n",
    "\n",
    "# Gives user index and distance (angle between vectors, 0 means cosine simlarity == 1)\n",
    "nbrs"
   ]
  },
  {
   "cell_type": "markdown",
   "id": "bdc8efd2",
   "metadata": {},
   "source": [
    "# With Cosine Similarity Function Instead"
   ]
  },
  {
   "cell_type": "code",
   "execution_count": null,
   "id": "e3642146",
   "metadata": {},
   "outputs": [],
   "source": [
    "# Pick a user id from 0 to 567805\n",
    "user_id = 478\n",
    "\n",
    "# Calculate pairwise cosine similarities between user and all other users\n",
    "similarities = cosine_similarity(users.getrow(user_id),users)\n",
    "\n",
    "# Get top k similar users that are not equal to 1\n",
    "sim_index = pd.DataFrame({'sim':similarities.flatten()})\n",
    "sim_index = sim_index.sort_values(['sim'])\n",
    "sim_index = sim_index[sim_index['sim'] != 1]\n",
    "nbrs = sim_index.iloc[-k:]\n",
    "nbrs = nbrs.reset_index()"
   ]
  },
  {
   "cell_type": "markdown",
   "id": "4f921e04",
   "metadata": {},
   "source": [
    "# Weighted Adjusted Average"
   ]
  },
  {
   "cell_type": "code",
   "execution_count": null,
   "id": "8ef77966",
   "metadata": {},
   "outputs": [],
   "source": [
    "# Books read by the user_id\n",
    "user_books = np.array(sparse_df[sparse_df['r_index']==user_id].c_index)\n",
    "\n",
    "# Loop through each neighbor and find set difference between it and the user. Union the set differences\n",
    "set_diff = np.empty(0,dtype=int)\n",
    "for ind in nbrs['index']:\n",
    "    nbr_books = np.array(sparse_df[sparse_df['r_index']==ind].c_index)\n",
    "    set_diff = np.union1d(set_diff,np.setdiff1d(nbr_books,user_books))"
   ]
  },
  {
   "cell_type": "code",
   "execution_count": null,
   "id": "70c8b2b5",
   "metadata": {
    "scrolled": true
   },
   "outputs": [],
   "source": [
    "# Get rows from users cooresponding to nbrs\n",
    "nbrs_books = users[nbrs['index']]\n",
    "\n",
    "# Get columns cooresponding to books read by neighbors but not user\n",
    "nbrs_books = nbrs_books[:,set_diff]\n",
    "\n",
    "# Convert to dataframe for ease of computation\n",
    "nbrs_books = pd.DataFrame.sparse.from_spmatrix(nbrs_books)\n",
    "nbrs_books = nbrs_books.set_axis(set_diff,axis=1)\n",
    "nbrs_books = nbrs_books.set_axis(np.array(nbrs['index']),axis=0)"
   ]
  },
  {
   "cell_type": "code",
   "execution_count": null,
   "id": "679ce658",
   "metadata": {},
   "outputs": [],
   "source": [
    "# Calculate weighted adjusted averages\n",
    "weighted_adj_averages = np.empty(len(set_diff))\n",
    "i = 0\n",
    "for book in set_diff:\n",
    "    curr_ratings = pd.DataFrame(nbrs_books[book])\n",
    "    curr_ratings = curr_ratings[curr_ratings[book] != 0]\n",
    "    curr_ratings['sim'] = np.array(nbrs[nbrs['index'].isin(curr_ratings.index)].sim)\n",
    "    tot_sim = sum(curr_ratings.sim)\n",
    "    curr_average = 0\n",
    "    for rating, sim in zip(curr_ratings[book], curr_ratings['sim']):\n",
    "        curr_average = curr_average + (sim/tot_sim) * rating\n",
    "    curr_average = curr_average - 1/len(curr_ratings.index)\n",
    "    weighted_adj_averages[i] = curr_average\n",
    "    i += 1"
   ]
  },
  {
   "cell_type": "code",
   "execution_count": null,
   "id": "b9a3c8da",
   "metadata": {},
   "outputs": [],
   "source": [
    "weighted_adj_averages"
   ]
  }
 ],
 "metadata": {
  "kernelspec": {
   "display_name": "Python 3 (ipykernel)",
   "language": "python",
   "name": "python3"
  },
  "language_info": {
   "codemirror_mode": {
    "name": "ipython",
    "version": 3
   },
   "file_extension": ".py",
   "mimetype": "text/x-python",
   "name": "python",
   "nbconvert_exporter": "python",
   "pygments_lexer": "ipython3",
   "version": "3.8.10"
  }
 },
 "nbformat": 4,
 "nbformat_minor": 5
}
