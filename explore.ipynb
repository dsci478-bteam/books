{
 "cells": [
  {
   "cell_type": "code",
   "execution_count": null,
   "id": "090ab19f",
   "metadata": {},
   "outputs": [],
   "source": [
    "# Package Imports\n",
    "import numpy as np\n",
    "import pandas as pd\n",
    "import scipy as sp\n",
    "from scipy.sparse import coo_matrix\n",
    "from scipy.sparse import csc_matrix"
   ]
  },
  {
   "cell_type": "code",
   "execution_count": null,
   "id": "547fb487",
   "metadata": {},
   "outputs": [],
   "source": [
    "# Read books data\n",
    "books = pd.read_csv('red_books.csv')\n",
    "books"
   ]
  },
  {
   "cell_type": "code",
   "execution_count": null,
   "id": "595fde7c",
   "metadata": {},
   "outputs": [],
   "source": [
    "# Read sparse matrix encoding into df\n",
    "sparse_df = pd.read_csv('users_sparse.csv')\n",
    "sparse_df"
   ]
  },
  {
   "cell_type": "code",
   "execution_count": null,
   "id": "6f81df77",
   "metadata": {},
   "outputs": [],
   "source": [
    "# Create Scipy sparse matrix and convert to compressed sparse column format for operations\n",
    "row = np.array(sparse_df.r_index)\n",
    "col = np.array(sparse_df.c_index)\n",
    "dat = np.array(sparse_df.data)\n",
    "users = coo_matrix((dat,(row,col)),shape=(np.unique(row).size,np.unique(col).size))\n",
    "users = users.tocsc()"
   ]
  }
 ],
 "metadata": {
  "kernelspec": {
   "display_name": "Python 3 (ipykernel)",
   "language": "python",
   "name": "python3"
  },
  "language_info": {
   "codemirror_mode": {
    "name": "ipython",
    "version": 3
   },
   "file_extension": ".py",
   "mimetype": "text/x-python",
   "name": "python",
   "nbconvert_exporter": "python",
   "pygments_lexer": "ipython3",
   "version": "3.8.10"
  }
 },
 "nbformat": 4,
 "nbformat_minor": 5
}
