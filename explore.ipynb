{
 "cells": [
  {
   "cell_type": "code",
   "execution_count": null,
   "id": "090ab19f",
   "metadata": {},
   "outputs": [],
   "source": [
    "# Package Imports\n",
    "import pandas as pd\n",
    "import os"
   ]
  },
  {
   "cell_type": "code",
   "execution_count": null,
   "id": "547fb487",
   "metadata": {},
   "outputs": [],
   "source": [
    "# Read data\n",
    "#le test\n",
    "books = pd.read_json(r'goodreads_books_young_adult.json', lines=True)"
   ]
  },
  {
   "cell_type": "code",
   "execution_count": null,
   "id": "595fde7c",
   "metadata": {},
   "outputs": [],
   "source": [
    "# View data\n",
    "books"
   ]
  },
  {
   "cell_type": "code",
   "execution_count": null,
   "id": "3cae164d",
   "metadata": {},
   "outputs": [],
   "source": [
    "# List Columns\n",
    "list(books.columns)"
   ]
  },
  {
   "cell_type": "code",
   "execution_count": null,
   "id": "b27a6ab6",
   "metadata": {},
   "outputs": [],
   "source": [
    "# Get rid of some columns (feel free to change)\n",
    "books = books.drop(columns=['isbn',\n",
    "                            'text_reviews_count',\n",
    "                            'series',\n",
    "                            'country_code',\n",
    "                            'language_code',\n",
    "                            'popular_shelves',\n",
    "                            'asin',\n",
    "                            'is_ebook',\n",
    "                            'kindle_asin',\n",
    "                            'format',\n",
    "                            'link',\n",
    "                            'publisher',\n",
    "                            'publication_day',\n",
    "                            'isbn13',\n",
    "                            'publication_month',\n",
    "                            'edition_information',\n",
    "                            'publication_year',\n",
    "                            'url',\n",
    "                            'image_url'])"
   ]
  },
  {
   "cell_type": "code",
   "execution_count": null,
   "id": "3d89637e",
   "metadata": {},
   "outputs": [],
   "source": [
    "# View new data\n",
    "books"
   ]
  }
 ],
 "metadata": {
  "kernelspec": {
   "display_name": "Python 3 (ipykernel)",
   "language": "python",
   "name": "python3"
  },
  "language_info": {
   "codemirror_mode": {
    "name": "ipython",
    "version": 3
   },
   "file_extension": ".py",
   "mimetype": "text/x-python",
   "name": "python",
   "nbconvert_exporter": "python",
   "pygments_lexer": "ipython3",
   "version": "3.8.10"
  }
 },
 "nbformat": 4,
 "nbformat_minor": 5
}
